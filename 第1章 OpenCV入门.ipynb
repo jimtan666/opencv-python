{
 "cells": [
  {
   "cell_type": "code",
   "execution_count": 1,
   "id": "monetary-vulnerability",
   "metadata": {},
   "outputs": [],
   "source": [
    "import cv2"
   ]
  },
  {
   "cell_type": "markdown",
   "id": "extended-porter",
   "metadata": {},
   "source": [
    "# 1.1 读取图像"
   ]
  },
  {
   "cell_type": "markdown",
   "id": "subject-absolute",
   "metadata": {},
   "source": [
    "### retval = cv2.imread(filename[,flags])\n",
    "- retval: 读取到的图像，未读到返回None\n",
    "- filename: 读取路径\n",
    "- flages: 读取标记：\n",
    "    - cv2.IMREAD_UNCHANGE / -1: 保持原格式不变\n",
    "    - cv2.IMREAD_GRAYSCALE / 0: 调整为灰度图像\n",
    "    - cv2.IMREAD_COLOR / 1: 调整为3通道RGB图像（默认）\n",
    "    - ..."
   ]
  },
  {
   "cell_type": "code",
   "execution_count": 2,
   "id": "fatty-maintenance",
   "metadata": {},
   "outputs": [],
   "source": [
    "img = cv2.imread(\"/Users/tanjun/Desktop/加班截图/WechatIMG115.jpeg\", -1)"
   ]
  },
  {
   "cell_type": "markdown",
   "id": "elegant-testimony",
   "metadata": {},
   "source": [
    "# 1.2 显示图像"
   ]
  },
  {
   "cell_type": "markdown",
   "id": "complete-boards",
   "metadata": {},
   "source": [
    "### 1.2.1 None = cv2.namedWindow(winname)\n",
    "- 创建命名窗口(可省略，imshow会创建)"
   ]
  },
  {
   "cell_type": "code",
   "execution_count": 3,
   "id": "eastern-showcase",
   "metadata": {},
   "outputs": [],
   "source": [
    "cv2.namedWindow(\"show\")"
   ]
  },
  {
   "cell_type": "markdown",
   "id": "lyric-iceland",
   "metadata": {},
   "source": [
    "### 1.2.2 None = cv2.imshow(winname, mat)\n",
    "- winname:窗口名\n",
    "- mat:要显示的图像"
   ]
  },
  {
   "cell_type": "code",
   "execution_count": 4,
   "id": "pretty-prince",
   "metadata": {},
   "outputs": [],
   "source": [
    "cv2.imshow(\"show\", img)"
   ]
  },
  {
   "cell_type": "markdown",
   "id": "exceptional-latest",
   "metadata": {},
   "source": [
    "### 1.2.3 retval = cv2.waitKey([delay])\n",
    "- retvall:返回值，没有键按下返回-1，有键按下返回键的ASCII码\n",
    "- delay:等待键盘触发时间，单位ms，当值为负数或0时，无限等待，默认为0"
   ]
  },
  {
   "cell_type": "code",
   "execution_count": 9,
   "id": "physical-desktop",
   "metadata": {},
   "outputs": [],
   "source": [
    "retval = cv2.waitKey(10)"
   ]
  },
  {
   "cell_type": "code",
   "execution_count": 10,
   "id": "federal-memorial",
   "metadata": {},
   "outputs": [
    {
     "data": {
      "text/plain": [
       "-1"
      ]
     },
     "execution_count": 10,
     "metadata": {},
     "output_type": "execute_result"
    }
   ],
   "source": [
    "retval"
   ]
  },
  {
   "cell_type": "code",
   "execution_count": 11,
   "id": "infectious-directory",
   "metadata": {},
   "outputs": [],
   "source": [
    "# 利用waitKey函数交互\n",
    "img = cv2.imread(\"/Users/tanjun/Desktop/加班截图/WechatIMG115.jpeg\")\n",
    "cv2.imshow(\"show\", img)\n",
    "retval = cv2.waitKey()\n",
    "if retval == ord('a'):\n",
    "    cv2.imshow(\"press_a\", img)\n",
    "elif retval == ord('b'):\n",
    "    cv2.imshow(\"press_b\", img)"
   ]
  },
  {
   "cell_type": "code",
   "execution_count": 12,
   "id": "mobile-garlic",
   "metadata": {},
   "outputs": [
    {
     "name": "stdout",
     "output_type": "stream",
     "text": [
      "触发了按键！\n"
     ]
    }
   ],
   "source": [
    "# 利用waitKey实现程序暂停\n",
    "img = cv2.imread(\"/Users/tanjun/Desktop/加班截图/WechatIMG115.jpeg\")\n",
    "cv2.imshow(\"show\", img)\n",
    "retval = cv2.waitKey()\n",
    "if retval != -1:\n",
    "    print(\"触发了按键！\")"
   ]
  },
  {
   "cell_type": "markdown",
   "id": "optical-folks",
   "metadata": {},
   "source": [
    "### 1.2.4 None = cv2.destroyWindow(winname)\n",
    "- 释放（销毁）指定窗口"
   ]
  },
  {
   "cell_type": "code",
   "execution_count": 13,
   "id": "neither-authentication",
   "metadata": {},
   "outputs": [],
   "source": [
    "# 当按下任意键时窗口被释放\n",
    "img = cv2.imread(\"/Users/tanjun/Desktop/加班截图/WechatIMG115.jpeg\")\n",
    "cv2.imshow(\"show\", img)\n",
    "cv2.waitKey()\n",
    "cv2.destroyWindow(\"show\")"
   ]
  },
  {
   "cell_type": "markdown",
   "id": "loose-singapore",
   "metadata": {},
   "source": [
    "### 1.2.5 None = cv2.destroyAllWindow(winname)\n",
    "- 释放（销毁）所有窗口"
   ]
  },
  {
   "cell_type": "code",
   "execution_count": null,
   "id": "emotional-vintage",
   "metadata": {},
   "outputs": [],
   "source": [
    "img = cv2.imread(\"/Users/tanjun/Desktop/加班截图/WechatIMG115.jpeg\")\n",
    "cv2.imshow(\"show\", img)\n",
    "cv2.waitKey()\n",
    "cv2.destroyAllWindows()"
   ]
  },
  {
   "cell_type": "markdown",
   "id": "silent-spelling",
   "metadata": {},
   "source": [
    "# 1.3 保存图片"
   ]
  },
  {
   "cell_type": "markdown",
   "id": "third-wholesale",
   "metadata": {},
   "source": [
    "### retval = cv2.imwrite(filename, img[,params])\n",
    "- retval:保存成功返回True,不成功返回False"
   ]
  },
  {
   "cell_type": "code",
   "execution_count": 17,
   "id": "directed-bikini",
   "metadata": {},
   "outputs": [
    {
     "data": {
      "text/plain": [
       "True"
      ]
     },
     "execution_count": 17,
     "metadata": {},
     "output_type": "execute_result"
    }
   ],
   "source": [
    "img = cv2.imread(\"/Users/tanjun/Desktop/加班截图/WechatIMG115.jpeg\")\n",
    "cv2.imwrite(\"./img.png\", img)"
   ]
  },
  {
   "cell_type": "code",
   "execution_count": null,
   "id": "offensive-creation",
   "metadata": {},
   "outputs": [],
   "source": []
  }
 ],
 "metadata": {
  "kernelspec": {
   "display_name": "Python 3",
   "language": "python",
   "name": "python3"
  },
  "language_info": {
   "codemirror_mode": {
    "name": "ipython",
    "version": 3
   },
   "file_extension": ".py",
   "mimetype": "text/x-python",
   "name": "python",
   "nbconvert_exporter": "python",
   "pygments_lexer": "ipython3",
   "version": "3.8.5"
  }
 },
 "nbformat": 4,
 "nbformat_minor": 5
}
