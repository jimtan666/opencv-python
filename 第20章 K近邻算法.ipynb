{
 "cells": [
  {
   "cell_type": "code",
   "execution_count": 1,
   "id": "altered-writer",
   "metadata": {},
   "outputs": [],
   "source": [
    "import matplotlib.pyplot as plt\n",
    "import numpy as np\n",
    "import cv2"
   ]
  },
  {
   "cell_type": "code",
   "execution_count": 2,
   "id": "advised-sending",
   "metadata": {},
   "outputs": [],
   "source": [
    "# 显示图像\n",
    "def img_show(img):\n",
    "    if len(img.shape) == 3:\n",
    "        if img.shape[-1]==3:\n",
    "            b,g,r = cv2.split(img)\n",
    "            img = cv2.merge([r,g,b])\n",
    "        elif img.shape[-1]==4:\n",
    "            b,g,r,a = cv2.split(img)\n",
    "            img = img\n",
    "        plt.imshow(img)\n",
    "    elif len(img.shape) == 2:\n",
    "        plt.imshow(img,cmap=\"gray\")"
   ]
  },
  {
   "cell_type": "code",
   "execution_count": 3,
   "id": "bridal-stupid",
   "metadata": {},
   "outputs": [],
   "source": [
    "# 随机加椒盐函数\n",
    "def salt(img,n):\n",
    "    # 循环添加n个椒盐\n",
    "    for k in range(n):\n",
    "        # 随机添加椒盐的坐标\n",
    "        i = int(np.random.random()*img.shape[0])\n",
    "        j = int(np.random.random()*img.shape[1])\n",
    "        # 若位灰度图\n",
    "        img[i,j] = 255\n",
    "        # 若为RGB图\n",
    "        img[i,j,0] = 255\n",
    "        img[i,j,0] = 255\n",
    "        img[i,j,0] = 255\n",
    "    return img"
   ]
  },
  {
   "cell_type": "code",
   "execution_count": 4,
   "id": "brilliant-board",
   "metadata": {},
   "outputs": [
    {
     "data": {
      "text/plain": [
       "True"
      ]
     },
     "execution_count": 4,
     "metadata": {},
     "output_type": "execute_result"
    }
   ],
   "source": [
    "# 清洗锐化图片\n",
    "def cleaning(img):\n",
    "    bgr = cv2.split(img)\n",
    "    bgrNew = []\n",
    "    for c in bgr:\n",
    "        c = cv2.threshold(c,127,255,cv2.THRESH_BINARY)\n",
    "        bgrNew.append(c[1])\n",
    "    img = cv2.merge(bgrNew)\n",
    "    return img\n",
    "\n",
    "hand = cv2.imread(\"/Users/tanjun/Desktop/tanjun/opencv/hand.png\")\n",
    "cleaning(hand)\n",
    "cv2.imwrite(\"/Users/tanjun/Desktop/tanjun/opencv/hand.png\",hand)"
   ]
  },
  {
   "cell_type": "markdown",
   "id": "static-technique",
   "metadata": {},
   "source": [
    "# 20.1 理论基础"
   ]
  },
  {
   "cell_type": "code",
   "execution_count": 5,
   "id": "prescribed-columbus",
   "metadata": {},
   "outputs": [],
   "source": [
    "# 取k个邻近点，这k个邻近点中属于那一类的较多，就将当前待识别点划分到那一类，k取奇数\n",
    "# 如已知双胞胎艺人A，B长得很像，要判断一张照片T到底是谁，用k近邻算法实现步骤：\n",
    "# 1.收集A，B艺人照片各100张\n",
    "# 2.确定几个用来识别人物的重要特征，并使用这些特征标注艺人A，B的照片，得到数据集FA，FB。如A:[156,34,890,457]\n",
    "# 3.计算待识别图像特征，并使用特征值表示图像T。如T:[257,896,236,639]\n",
    "# 4.计算图像T的特征值与FA，FB中各特征值的距离\n",
    "# 5.找出其中k个最短距离的样本（离T最近的k个邻居），统计k个样本中属于FA，FB的样本点个数，哪个多，就将T确定为哪个人"
   ]
  },
  {
   "cell_type": "markdown",
   "id": "monetary-tribute",
   "metadata": {},
   "source": [
    "# 20.2 计算"
   ]
  },
  {
   "cell_type": "markdown",
   "id": "parallel-wound",
   "metadata": {},
   "source": [
    "### 20.2.1 归一化"
   ]
  },
  {
   "cell_type": "code",
   "execution_count": 6,
   "id": "complete-kruger",
   "metadata": {},
   "outputs": [],
   "source": [
    "# 无量纲化，消除不同单位数值不能直接比较的影响\n",
    "# 通常用每个数值除以最大值（或最大值与最小值的差）做归一化"
   ]
  },
  {
   "cell_type": "markdown",
   "id": "attached-biotechnology",
   "metadata": {},
   "source": [
    "### 20.2.2 距离计算"
   ]
  },
  {
   "cell_type": "code",
   "execution_count": 7,
   "id": "nasty-carolina",
   "metadata": {},
   "outputs": [],
   "source": [
    "# 曼哈顿距离：\n",
    "# 绝对值求和：d = ｜a-b｜+｜e-f｜\n",
    "# 欧式距离：\n",
    "# 平方和的平方根：d = √((a-b)^2+(e-f)^2)"
   ]
  },
  {
   "cell_type": "markdown",
   "id": "compatible-medicare",
   "metadata": {},
   "source": [
    "# 20.3 手写数字识别"
   ]
  },
  {
   "cell_type": "code",
   "execution_count": 8,
   "id": "olympic-shoulder",
   "metadata": {},
   "outputs": [],
   "source": [
    "# 方法，计算手写数字8与0-9这十个已知数字的距离，哪个短是哪个\n",
    "\n",
    "# 步骤：\n",
    "# 1.特征提取\n",
    "# 将手写数组图片分成8个区间，计算每个区间黑色像素点的个数，这样就采集到了4*4的特征值。将其写成一行数组形式，这样一行数组代笔一张图\n",
    "# 2.数字识别\n",
    "# 挨个计算手写数字8特征值与0-9数字图片之间的距离（对应位置做平方差，再将结果的和开根号：欧式距离），离哪个近分类为哪个"
   ]
  },
  {
   "cell_type": "markdown",
   "id": "nasty-privacy",
   "metadata": {},
   "source": [
    "# 20.4 自定义手写数字识别"
   ]
  },
  {
   "cell_type": "code",
   "execution_count": 15,
   "id": "hawaiian-ranch",
   "metadata": {},
   "outputs": [],
   "source": [
    "# opencv提供函数cv2.KNearest()用来实现K近邻算法\n",
    "# 编写程序，演示K近邻算法\n",
    "\n",
    "# 1.数据初始化\n",
    "s = \"image/\"  # 图像所在路径\n",
    "num = 100     # 共有特征值的数量\n",
    "row = 240     # 特征图像行数\n",
    "col = 240     # 特征图像列数\n",
    "a = np.zeros((num,row,col))  # 用来存储所有特征值的值\n",
    "\n",
    "# 2.读取特征图像\n",
    "n = 0  # 用来存储当前图像的编号\n",
    "for i in range(0,100):\n",
    "    for j in range(1,11)\n",
    "        a[n,:,:] = cv2.imread(s+str(i)+\"/\"+str(i)+\"-\"+\"j\"+\".bmp\",0)\n",
    "        n += 1\n",
    "        \n",
    "# 3.提取特殊图像的特征值\n",
    "# 计算每个子块内白色像素的数量\n",
    "f = np.zeros((num,round(row/5),round(col/5)))  # f存储所有样本的特征值\n",
    "for ni in range(0,num):\n",
    "    for nr in range(0,row):\n",
    "        for nc in range(0,col):\n",
    "            if a[ni,nr,nc]==255:\n",
    "                f[ni,int(nr/5),int(nc/5)] += 1\n",
    "                \n",
    "# 4.计算待识别图像的特征值\n",
    "o = cv2.imread('rmage/test/9.bmp',0)\n",
    "of = np.zeros((round(row/5),round(col/5)))  # of存储待识别图片的特征值\n",
    "for nr in range(0,row):\n",
    "    for nc in range(0,col):\n",
    "        of[int(nr/5),int(nc/5)] +=1\n",
    "        \n",
    "# 5.计算待识别图像与特征图像之间的距离\n",
    "d = np.zeros(100)\n",
    "for i in range(0,100):\n",
    "    d[i] = np.sum((of-f[i])**2)\n",
    "    \n",
    "# 6.获取k个最短距离及其索引\n",
    "d = d.tolist()\n",
    "temp = []\n",
    "k = 7\n",
    "for i in range(k):\n",
    "    temp.append(d.index(min(d)))\n",
    "    d[d.index(min(d))] = np.inf\n",
    "    \n",
    "# 7.识别\n",
    "temp = [i/10 for i in temp]\n",
    "r = np.zeros(10)  # 用来存储结果，r[0]表示“0”的个数\n",
    "for i in temp:\n",
    "    r[int[i]] += 1"
   ]
  },
  {
   "cell_type": "markdown",
   "id": "geographic-column",
   "metadata": {},
   "source": [
    "# 20.5 K近邻模块的基本使用"
   ]
  },
  {
   "cell_type": "code",
   "execution_count": 29,
   "id": "annual-shopping",
   "metadata": {},
   "outputs": [
    {
     "name": "stdout",
     "output_type": "stream",
     "text": [
      "当前随机数可判定为类型： [[0.]]\n",
      "距离当前点最近的5个邻居： [[0. 0. 0. 0. 0.]]\n",
      "5个最近邻居的距离： [[ 386.  745.  801.  850. 1053.]]\n"
     ]
    },
    {
     "data": {
      "image/png": "[encoded data removed]",
      "text/plain": [
       "<Figure size 432x288 with 1 Axes>"
      ]
     },
     "metadata": {
      "needs_background": "light"
     },
     "output_type": "display_data"
    }
   ],
   "source": [
    "# 演示opencv自带的K近邻模块的使用方法\n",
    "\n",
    "# 用于训练的数据\n",
    "rand1 = np.random.randint(0,30,(20,2)).astype(np.float32)\n",
    "rand2 = np.random.randint(70,100,(20,2)).astype(np.float32)\n",
    "trainData = np.vstack((rand1,rand2))\n",
    "\n",
    "# 数据标签：0和1\n",
    "r1Label = np.zeros((20,1)).astype(np.float32)\n",
    "r2Label = np.ones((20,1)).astype(np.float32)\n",
    "tdLabel = np.vstack((r1Label,r2Label))\n",
    "\n",
    "# 用绿色标注类型0,蓝色标注类型1\n",
    "g = trainData[tdLabel.ravel()==0]\n",
    "plt.scatter(g[:,0],g[:,1],80,\"g\",'o')\n",
    "b = trainData[tdLabel.ravel()==1]\n",
    "plt.scatter(b[:,0],b[:,1],80,\"b\",'s')\n",
    "\n",
    "# test为用于测试的随机数对:（0,100）\n",
    "test = np.random.randint(0,100,(1,2)).astype(np.float32)\n",
    "plt.scatter(test[:,0],test[:,1],80,'r','*')\n",
    "\n",
    "# 调用opencv内K近邻模块训练\n",
    "knn = cv2.ml.KNearest_create()\n",
    "knn.train(trainData,cv2.ml.ROW_SAMPLE,tdLabel)\n",
    "\n",
    "# 使用K近邻算法做分类\n",
    "ret,results,neighbours,dist = knn.findNearest(test,5)\n",
    "\n",
    "# 显示处理结果\n",
    "print('当前随机数可判定为类型：',results)\n",
    "print('距离当前点最近的5个邻居：',neighbours)\n",
    "print('5个最近邻居的距离：',dist)\n",
    "plt.show()"
   ]
  },
  {
   "cell_type": "markdown",
   "id": "legitimate-universal",
   "metadata": {},
   "source": [
    "# 20.6 K近邻手写数字识别"
   ]
  },
  {
   "cell_type": "code",
   "execution_count": 30,
   "id": "agreed-defendant",
   "metadata": {},
   "outputs": [],
   "source": [
    "s = 'image/'\n",
    "num = 100\n",
    "row = 240\n",
    "col = 240\n",
    "a = np.zeros((num,row,col))\n",
    "\n",
    "# 读取样本图片\n",
    "n = 0\n",
    "for i in range(0,10):\n",
    "    for j in range(1,11):\n",
    "        a[n,:,:] = cv2.imread(s+str(i)+'/'+str(i)+'-'+str(j)+'.bmp',0)\n",
    "        n += 1\n",
    "        \n",
    "# 提取样本图像特征\n",
    "f = np.zeros((num,round(row/5),round(col/5)))\n",
    "for ni in range(0,num):\n",
    "    for nr in range(0,row):\n",
    "        for nc in range(0,col):\n",
    "            if a[ni,nr,nc] == 255:\n",
    "                f[ni,int(nr/5),int(nc/5)] += 1  \n",
    "                \n",
    "train = f[:,:].reshape(-1,round(row/5)*round(col/5)).astype(np.float32)  # 整形，处理成单行形式\n",
    "\n",
    "# 打标签\n",
    "trainLabels = [int(i/10) for i in range(0,100)]\n",
    "trainLabels = np.array(trainLabels)\n",
    "\n",
    "# 读取待识别图像\n",
    "o = cv2.imread('image/test/5.bpm',0)\n",
    "of = np.zeros((round(row/5),round(col/5)))\n",
    "for nr in range(0,row):\n",
    "    for nc in range(0,col):\n",
    "        if o[nr,nc] == 255:\n",
    "            o[int(row/5),int(col/5)] += 1\n",
    "            \n",
    "test = of.reshape(-1,round(row/5)*round(col/5)).astype(np.float32)  # 整形，处理成单行形式\n",
    "\n",
    "# 训练\n",
    "knn = cv2.ml.KNearest_create()\n",
    "knn.train(train,cv2.ml.ROW_SAMPLE,trainabels)\n",
    "# 预测\n",
    "ret,result,neighbours,dist = knn.findNearest(test,k=5)\n",
    "\n",
    "print('当前随机数可判定为类型：',results)\n",
    "print('距离当前点最近的5个邻居：',neighbours)\n",
    "print('5个最近邻居的距离：',dist)"
   ]
  },
  {
   "cell_type": "code",
   "execution_count": null,
   "id": "ordered-constraint",
   "metadata": {},
   "outputs": [],
   "source": []
  }
 ],
 "metadata": {
  "kernelspec": {
   "display_name": "Python 3",
   "language": "python",
   "name": "python3"
  },
  "language_info": {
   "codemirror_mode": {
    "name": "ipython",
    "version": 3
   },
   "file_extension": ".py",
   "mimetype": "text/x-python",
   "name": "python",
   "nbconvert_exporter": "python",
   "pygments_lexer": "ipython3",
   "version": "3.8.5"
  }
 },
 "nbformat": 4,
 "nbformat_minor": 5
}
