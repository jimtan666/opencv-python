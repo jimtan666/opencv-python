{
 "cells": [
  {
   "cell_type": "code",
   "execution_count": 1,
   "id": "laughing-hundred",
   "metadata": {},
   "outputs": [],
   "source": [
    "import matplotlib.pyplot as plt\n",
    "import numpy as np\n",
    "import cv2"
   ]
  },
  {
   "cell_type": "code",
   "execution_count": 2,
   "id": "stainless-patio",
   "metadata": {},
   "outputs": [],
   "source": [
    "# 显示图像\n",
    "def img_show(img):\n",
    "    if len(img.shape) == 3:\n",
    "        if img.shape[-1]==3:\n",
    "            b,g,r = cv2.split(img)\n",
    "            img = cv2.merge([r,g,b])\n",
    "        elif img.shape[-1]==4:\n",
    "            b,g,r,a = cv2.split(img)\n",
    "            img = img\n",
    "        plt.imshow(img)\n",
    "    elif len(img.shape) == 2:\n",
    "        plt.imshow(img,cmap=\"gray\")"
   ]
  },
  {
   "cell_type": "code",
   "execution_count": 3,
   "id": "coordinate-gravity",
   "metadata": {},
   "outputs": [],
   "source": [
    "# 随机加椒盐函数\n",
    "def salt(img,n):\n",
    "    # 循环添加n个椒盐\n",
    "    for k in range(n):\n",
    "        # 随机添加椒盐的坐标\n",
    "        i = int(np.random.random()*img.shape[0])\n",
    "        j = int(np.random.random()*img.shape[1])\n",
    "        # 若位灰度图\n",
    "        img[i,j] = 255\n",
    "        # 若为RGB图\n",
    "        img[i,j,0] = 255\n",
    "        img[i,j,0] = 255\n",
    "        img[i,j,0] = 255\n",
    "    return img"
   ]
  },
  {
   "cell_type": "code",
   "execution_count": 4,
   "id": "laughing-constitution",
   "metadata": {},
   "outputs": [
    {
     "data": {
      "text/plain": [
       "True"
      ]
     },
     "execution_count": 4,
     "metadata": {},
     "output_type": "execute_result"
    }
   ],
   "source": [
    "# 清洗锐化图片\n",
    "def cleaning(img):\n",
    "    bgr = cv2.split(img)\n",
    "    bgrNew = []\n",
    "    for c in bgr:\n",
    "        c = cv2.threshold(c,127,255,cv2.THRESH_BINARY)\n",
    "        bgrNew.append(c[1])\n",
    "    img = cv2.merge(bgrNew)\n",
    "    return img\n",
    "\n",
    "hand = cv2.imread(\"/Users/tanjun/Desktop/tanjun/opencv/hand.png\")\n",
    "cleaning(hand)\n",
    "cv2.imwrite(\"/Users/tanjun/Desktop/tanjun/opencv/hand.png\",hand)"
   ]
  },
  {
   "cell_type": "markdown",
   "id": "ideal-malpractice",
   "metadata": {},
   "source": [
    "# 21.1 理论基础"
   ]
  },
  {
   "cell_type": "code",
   "execution_count": 5,
   "id": "patent-context",
   "metadata": {},
   "outputs": [],
   "source": [
    "# 支持向量机（SVM）：一种而分类模型，目标是寻找一个标准（超平面）对样本数据进行分割，分割的原则是确保分类最优化（类别间间距最大）\n",
    "# 数据集较小时，支持向量机进行分类非常有效，且分类其不加修改就可直接使用\n",
    "# 支持向量机把无法线性分割的数据映射到高维空间，然后在高维空间找到分类最优的线性分类器\n",
    "\n",
    "# 1.分类：\n",
    "# 2.分类器：\n",
    "# 用于划分不同类别的直线就是分类器。找到离分类器最近的点，确保它们离分类器尽可能远，就找到了最优分类器，离分类器最近的那些点叫做支持向量\n",
    "# 3.将不可分变为可分：\n",
    "# 将低维空间通过映射到高维空间，实现线性可分\n",
    "# 4.概念总结：\n",
    "# 虽然分析是二维的，但支持向量机可以处理任何维度的数据，在不同维度下，支持向量机会尽可能找到类似二维空间的直线的线性分类器：\n",
    "# 如二维空间会找到一条直线，三位空间会找到一个平面，更高维空间会找到一个超平面"
   ]
  },
  {
   "cell_type": "markdown",
   "id": "engaged-thing",
   "metadata": {},
   "source": [
    "# 21.2 SVM案例"
   ]
  },
  {
   "cell_type": "code",
   "execution_count": 6,
   "id": "engaged-federal",
   "metadata": {},
   "outputs": [],
   "source": [
    "# 1.使用支持向量机模块时，需要先用函数cv2.ml.SVM_create()生成一个用于后续训练的空分类模型：\n",
    "# svm = cv2.ml.SVM_create()\n",
    "\n",
    "# 2.然后用该模型使用svm.train()函数对训练数据进行训练：\n",
    "# 训练结果 = cv2.ml.SVM_create(训练数据，训练数据排列格式，训练数据的标签)\n",
    "# 训练数据排列格式：原始数据的排列格式有按行排列cv2.ml.ROW_SAMPLE（一条数据占一行）和案列排列cv2.ml.COL_SAMPLE(一条数据占一列)\n",
    "\n",
    "# 3.完成训练后，使用svm.predict()使用训练好的分类模型对测试数据进行分类：\n",
    "# （返回值，返回结果） = svm.predict(测试数据)\n",
    "\n",
    "# 实际使用过程中，可对其中参数进行调整。\n",
    "# 如通过setType()函数设置类别，通过setKernel()函数设置核类型，通过setC()函数设置支持向量机的参数C(惩罚系数，即对误差宽容度，默认0)"
   ]
  },
  {
   "cell_type": "code",
   "execution_count": 16,
   "id": "brave-victor",
   "metadata": {},
   "outputs": [
    {
     "data": {
      "image/png": "[encoded data removed]",
      "text/plain": [
       "<Figure size 432x288 with 1 Axes>"
      ]
     },
     "metadata": {
      "needs_background": "light"
     },
     "output_type": "display_data"
    },
    {
     "name": "stdout",
     "output_type": "stream",
     "text": [
      "[[98. 90.]\n",
      " [90. 99.]]\n",
      "[[1.]\n",
      " [1.]]\n"
     ]
    }
   ],
   "source": [
    "# 已知老员工的笔试成绩，面试成绩及对应的等级表现，根据新入职员工的笔试成绩，面试成绩预测其可能表现\n",
    "\n",
    "# 1.生成模拟数据\n",
    "a = np.random.randint(95,100,(20,2)).astype(np.float32)  # 入职1年的A员工入职时的笔试成绩，1年后工作表现为A级\n",
    "b = np.random.randint(90,95,(20,2)).astype(np.float32)  # 入职1年的B员工入职时的笔试成绩，1年后工作表现为B级\n",
    "data = np.vstack((a,b))\n",
    "data = np.array(data,dtype=np.float32)\n",
    "\n",
    "# 2.构造数据标签\n",
    "aLabel = np.zeros((20,1))\n",
    "bLabel = np.ones((20,1))\n",
    "label = np.vstack((aLabel,bLabel))\n",
    "label = np.array(label,dtype=np.int32)\n",
    "\n",
    "# 训练\n",
    "svm = cv2.ml.SVM_create()\n",
    "# 属性设置，采用默认值即可\n",
    "# svm.setType(cv2.ml.SVM_C_SVC)\n",
    "# svm.setKernel(cv2.ml.SVM_LINEAR)\n",
    "# svm.setC(0.01)\n",
    "result = svm.train(data,cv2.ml.ROW_SAMPLE,label)\n",
    "\n",
    "# 4.分类\n",
    "test = np.vstack([[98,90],[90,99]])  # 生成两组（笔试成绩，面试成绩）用于测试\n",
    "test = np.array(test,np.float32)\n",
    "(p1,p2) = svm.predict(test)\n",
    "\n",
    "# 显示分类结果\n",
    "plt.scatter(a[:,0],a[:,1],80,'g','o')\n",
    "plt.scatter(b[:,0],b[:,1],80,'b','s')\n",
    "plt.scatter(test[:,0],test[:,1],80,'r','*')\n",
    "plt.show()\n",
    "\n",
    "print(test)\n",
    "print(p2)"
   ]
  },
  {
   "cell_type": "code",
   "execution_count": null,
   "id": "guilty-teddy",
   "metadata": {},
   "outputs": [],
   "source": []
  }
 ],
 "metadata": {
  "kernelspec": {
   "display_name": "Python 3",
   "language": "python",
   "name": "python3"
  },
  "language_info": {
   "codemirror_mode": {
    "name": "ipython",
    "version": 3
   },
   "file_extension": ".py",
   "mimetype": "text/x-python",
   "name": "python",
   "nbconvert_exporter": "python",
   "pygments_lexer": "ipython3",
   "version": "3.8.5"
  }
 },
 "nbformat": 4,
 "nbformat_minor": 5
}
