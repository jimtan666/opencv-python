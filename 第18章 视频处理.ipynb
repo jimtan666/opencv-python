{
 "cells": [
  {
   "cell_type": "code",
   "execution_count": 1,
   "id": "intended-force",
   "metadata": {},
   "outputs": [],
   "source": [
    "import matplotlib.pyplot as plt\n",
    "import numpy as np\n",
    "import cv2"
   ]
  },
  {
   "cell_type": "code",
   "execution_count": 2,
   "id": "speaking-romance",
   "metadata": {},
   "outputs": [],
   "source": [
    "# 显示图像\n",
    "def img_show(img):\n",
    "    if len(img.shape) == 3:\n",
    "        if img.shape[-1]==3:\n",
    "            b,g,r = cv2.split(img)\n",
    "            img = cv2.merge([r,g,b])\n",
    "        elif img.shape[-1]==4:\n",
    "            b,g,r,a = cv2.split(img)\n",
    "            img = img\n",
    "        plt.imshow(img)\n",
    "    elif len(img.shape) == 2:\n",
    "        plt.imshow(img,cmap=\"gray\")"
   ]
  },
  {
   "cell_type": "code",
   "execution_count": 3,
   "id": "indie-great",
   "metadata": {},
   "outputs": [],
   "source": [
    "# 随机加椒盐函数\n",
    "def salt(img,n):\n",
    "    # 循环添加n个椒盐\n",
    "    for k in range(n):\n",
    "        # 随机添加椒盐的坐标\n",
    "        i = int(np.random.random()*img.shape[0])\n",
    "        j = int(np.random.random()*img.shape[1])\n",
    "        # 若位灰度图\n",
    "        img[i,j] = 255\n",
    "        # 若为RGB图\n",
    "        img[i,j,0] = 255\n",
    "        img[i,j,0] = 255\n",
    "        img[i,j,0] = 255\n",
    "    return img"
   ]
  },
  {
   "cell_type": "code",
   "execution_count": 4,
   "id": "assigned-lafayette",
   "metadata": {},
   "outputs": [
    {
     "data": {
      "text/plain": [
       "True"
      ]
     },
     "execution_count": 4,
     "metadata": {},
     "output_type": "execute_result"
    }
   ],
   "source": [
    "# 清洗锐化图片\n",
    "def cleaning(img):\n",
    "    bgr = cv2.split(img)\n",
    "    bgrNew = []\n",
    "    for c in bgr:\n",
    "        c = cv2.threshold(c,127,255,cv2.THRESH_BINARY)\n",
    "        bgrNew.append(c[1])\n",
    "    img = cv2.merge(bgrNew)\n",
    "    return img\n",
    "\n",
    "hand = cv2.imread(\"/Users/tanjun/Desktop/tanjun/opencv/hand.png\")\n",
    "cleaning(hand)\n",
    "cv2.imwrite(\"/Users/tanjun/Desktop/tanjun/opencv/hand.png\",hand)"
   ]
  },
  {
   "cell_type": "code",
   "execution_count": 6,
   "id": "successful-proposal",
   "metadata": {},
   "outputs": [],
   "source": [
    "# opencv提供了cv2.VideoCapture类和cv2.VideoWriter类来支持各种类型的视频文件"
   ]
  },
  {
   "cell_type": "markdown",
   "id": "equipped-macedonia",
   "metadata": {},
   "source": [
    "# 18.1 VideoCapture类"
   ]
  },
  {
   "cell_type": "code",
   "execution_count": 5,
   "id": "independent-things",
   "metadata": {},
   "outputs": [],
   "source": [
    "# opencv提供了cv2.VideoCapture来处理视频"
   ]
  },
  {
   "cell_type": "markdown",
   "id": "engaged-index",
   "metadata": {},
   "source": [
    "### 18.1.1 类函数介绍"
   ]
  },
  {
   "cell_type": "code",
   "execution_count": 7,
   "id": "indoor-theater",
   "metadata": {},
   "outputs": [],
   "source": [
    "# cv2.VideoCapture类的常用函数包括：初始化，打开，帧捕获，释放，属性设置等\n",
    "\n",
    "# 1.初始化\n",
    "# opencv为cv2.VideoCapture类提供了构造函数cv2.VideoCapture(),用于打开摄像头完成摄像头的初始化工作：\n",
    "# 捕获对象 = cv2.VideoCapture(\"摄像头ID号\")\n",
    "# 摄像头ID号：摄像头的ID号，默认值-1，表示随机选一个摄像头；如果多个摄像头，0表示第一个，1表示第二个，依次类推\n",
    "# 捕获对象：返回值，cv2.VideoCapture类对象\n",
    "# 例如，要初始化当前摄像头，要使用语句：\n",
    "# cap = cv2.VideoCapture(0)\n",
    "# opencv官方在介绍cv2.VideoCapture()函数时特别强调：视频处理完后要记得释放摄像头对象\n",
    "# 该函数也能用于初始化视频文件，初始化视频文件时，参数是文件名：\n",
    "# cap = cv2.VideoCapture(“vtest.avi\")\n",
    "\n",
    "# 2.cv2.VideoCapture.open()函数和cv2.VideoCapture.isOpened()函数\n",
    "# 一般使用cv2.VideoCapture()完成摄像头初始化，但为放置发生错误，可使用函数cv2.VideoCapture.isOpened()检查是否初始化成功\n",
    "# retval = cv2.VideoCapture.isOpened()\n",
    "# 如果成功，返回True；如果失败，返回False\n",
    "# 如果摄像头初始化失败，可以使用函数cv2.VideoCapture.open()打开摄像头：\n",
    "# retval = cv2.VideoCapture.open(index)\n",
    "# index：摄像头编号\n",
    "# retval：返回值，当摄像头或视频文件被打开时，返回True\n",
    "# 同样，cv2.VideoCapture.open()函数和cv2.VideoCapture.isOpened()函数也能处理视频文件\n",
    "# retval = cv2.VideoCapture.open(filename)\n",
    "\n",
    "# 3.捕获帧\n",
    "# 摄像头初始化成功后，可以从摄像头中捕获帧信息了：\n",
    "# retval,image = cv2.VideoCapture.read()\n",
    "# image：返回的捕获到的帧，若没有捕获，该值为空\n",
    "# retval：捕获是否成功，布尔值\n",
    "\n",
    "# 4.释放\n",
    "# 不需要摄像头时，要关闭摄像头：\n",
    "# None = cv2.VideoCapture.release()\n",
    "\n",
    "# 5.属性设置\n",
    "# 函数cv2.VideoCapture.get()用于获取cv2.VideoCapture类的属性\n",
    "# retval = cv2.VideoCapture.get(propId)\n",
    "# propId：类对象的属性\n",
    "# 如类对象cvc的宽高属性：\n",
    "# cvc.get(cv2.CAP_PROP_FRAME_WIDTH)\n",
    "# cvc.get(cv2.CAP_PROP_FRAME_HEIGHT)\n",
    "# 函数cv2.VideoCapture.set()用于设置cv2.VideoCapture类的属性\n",
    "# retval = cv2.VideoCapture.set(propId,value)\n",
    "# ret = cv2.VideoCapture.set(cv2.CAP_PROP_FRAME_WIDTH,640)\n",
    "# cv2.VideoCapture类的属性值及含义参见书P385-386\n",
    "\n",
    "# 6.cv2.VideoCapture.grap()函数和cv2.VideoCapture.retrieve()函数\n",
    "# 一般，如果要读取一个摄像头的视频数据，最简单的方法就是使用函数cv2.VideoCapture.read()\n",
    "# 但如如果需要同步一组或一个多头摄像头的视频数据时，该函数就无法胜任了\n",
    "# 可以把函数cv2.VideoCapture.read()理解为由cv2.VideoCapture.grap()函数和cv2.VideoCapture.retrieve()函数组成的\n",
    "# 函数cv2.VideoCapture.grap()用来指向下一帧，函数cv2.VideoCapture.retrieve()用来解码并返回一帧\n",
    "# 因此cv2.VideoCapture.grap()和cv2.VideoCapture.retrieve()可以获取多个摄像头数据\n",
    "# retval = cv2.VideoCapture.grab()\n",
    "# 如果该函数成功指向下一帧，返回True\n",
    "# retval,image = cv2.VideoCapture.retrieve()\n",
    "# image：返回视频帧，如未成功，返回空图像\n",
    "# retval：若成功返回True，反之\n",
    "# 对于一组摄像头，可以使用如下代码捕获不同摄像头的视频帧：\n",
    "# success0 = cameraCapture0.grab()\n",
    "# success1 = cameraCapture1.grab()\n",
    "# if success0 and success1:\n",
    "# frame0 = cameraCapture0.retrieve()\n",
    "# frame1 = cameraCapture1.retrieve()\n",
    "# cv2.VideoCapture.grap()函数和cv2.VideoCapture.retrieve()函数也能用来读取视频文件"
   ]
  },
  {
   "cell_type": "markdown",
   "id": "humanitarian-jason",
   "metadata": {},
   "source": [
    "### 18.1.2 捕获摄像头视频"
   ]
  },
  {
   "cell_type": "code",
   "execution_count": 8,
   "id": "signal-harris",
   "metadata": {},
   "outputs": [],
   "source": [
    "cap = cv2.VideoCapture(0)\n",
    "\n",
    "while(cap.isOpen()):\n",
    "    ret,frame = cap.read()\n",
    "    cv2.imshow(\"frame\",frame)\n",
    "    c = cv2.waitKey(1)\n",
    "    if c == 27:  # ESC键\n",
    "        break\n",
    "        \n",
    "cap.release()\n",
    "cv2.dstroyAllWindows()"
   ]
  },
  {
   "cell_type": "markdown",
   "id": "front-object",
   "metadata": {},
   "source": [
    "### 18.1.3 播放视频文件"
   ]
  },
  {
   "cell_type": "code",
   "execution_count": 9,
   "id": "junior-emergency",
   "metadata": {},
   "outputs": [],
   "source": [
    "cap = cv2.VideoCapture(\"viptrain.avi\")\n",
    "\n",
    "while(cap.isOpen()):\n",
    "    ret,frame = cap.read()\n",
    "    cv2.imshow(\"frame\",frame)\n",
    "    c = cv2.waitKey(25)\n",
    "    if c == 27:  # ESC键\n",
    "        break\n",
    "        \n",
    "cap.release()\n",
    "cv2.dstroyAllWindows()"
   ]
  },
  {
   "cell_type": "markdown",
   "id": "monthly-valuation",
   "metadata": {},
   "source": [
    "# 18.2 VideoWriter类"
   ]
  },
  {
   "cell_type": "code",
   "execution_count": 10,
   "id": "metallic-lebanon",
   "metadata": {},
   "outputs": [],
   "source": [
    "# opencv中的cv2.VidoWrite类可以将图片序列保存成视频文件，也可以修改视频的各种属性，还可以完成视频类型的转换"
   ]
  },
  {
   "cell_type": "markdown",
   "id": "earned-harmony",
   "metadata": {},
   "source": [
    "### 18.2.1 类函数介绍"
   ]
  },
  {
   "cell_type": "code",
   "execution_count": 13,
   "id": "protective-system",
   "metadata": {},
   "outputs": [],
   "source": [
    "# cv2.VideoWriter类通常的成员包括：构造函数，writer函数等\n",
    "\n",
    "# 1.构造函数\n",
    "# <VideoWriter object> = cv2.VideoWriter(fileneme,fourcc,fps,frameSize[,isColor])\n",
    "# fileneme：输出目标视频的存放路径和文件名\n",
    "# fourcc：表示视频编码/解码类型（格式）。opencv中用函数cv.VideoWriter_fourcc()来指定视频编码格式\n",
    "# cv.VideoWriter_fourcc()有4个字符参数，构成编解码器的‘4字标记’，每个编解码器都有这样一个标记，常见的有：\n",
    "# cv2.VideoWriter_fourcc('I','4','2','0')：表示未压缩YUV颜色编码格式，色度子采样为4:2:0。\n",
    "# 该编码器具有较好兼容性，但文件较大，文件扩展名为.avi\n",
    "# cv2.VideoWriter_fourcc('P','I','M','I')：表示MPEG-1编码类型，生成文件扩展名为.avi\n",
    "# cv2.VideoWriter_fourcc('X','V','I','D')：表示MPEG-4编码类型，生成文件扩展名为.avi\n",
    "# 如果希望得到的视频大小为平均值，可以使用这个参数组合\n",
    "# cv2.VideoWriter_fourcc('T','H','E','O')：表示Ogg Vorbis编码类型，文件扩展名为.ogv\n",
    "# cv2.VideoWriter_fourcc('F','L','V','I')：表示Flash视频，生成文件扩展名为.flv\n",
    "# 更多的字符参数组合，参见http://www.fourcc.org\n",
    "# fps：帧速率\n",
    "# frameSize：表示每一帧的长和宽\n",
    "# isColor：表示是否为彩色图像\n",
    "# 下面语句完成了cv2.VideoWriter类的初始化工作：\n",
    "# fourcc = cv2.VideoWriter_fourcc(*'XVID')\n",
    "# out = cv2.VideoWriter(\"output.avi\",fourcc,20,(1024,768))\n",
    "# 如果想通过对话框设置编解码格式，使用语句：\n",
    "# fourcc = -1\n",
    "# out = cv2.VideoWriter('output.avi',fourcc,20,(1024,768))\n",
    "\n",
    "# 2.write函数\n",
    "# cv2.VideoWriter.write()用于写入下一帧视频：\n",
    "# None = cv2.VideoWriter.write(image)\n",
    "# image：要写入的视频帧，通常要求彩色图像的格式为BGR\n",
    "# 在调用函数时，直接将要写入的视频帧传入函数即可\n",
    "\n",
    "# 3.释放\n",
    "# 在不需要cv2.ViderWriter对象时，要释放掉：\n",
    "# None = cv2.VideoWriter.release()"
   ]
  },
  {
   "cell_type": "markdown",
   "id": "straight-packet",
   "metadata": {},
   "source": [
    "### 18.2.2 保存视频"
   ]
  },
  {
   "cell_type": "code",
   "execution_count": 14,
   "id": "advised-anxiety",
   "metadata": {},
   "outputs": [],
   "source": [
    "# 保存视频包括：创建对象，写入视频，释放对象等多个步骤\n",
    "\n",
    "# 1.创建对象\n",
    "# 创建对象前，先设置好参数\n",
    "# -设置好要保存的具体文件名，如filename='out.avi'\n",
    "# -使用cv2.VideoWriter_fourcc()确定编解码类型，如fourcc=cv2.VideoWriter_fourcc(*'XVID')\n",
    "# -确定视频帧速率，如fps=20\n",
    "# -确定视频长度和宽度，size=(640,480)\n",
    "# 然后用上述参数创建对象：\n",
    "# out = cv2.VideoWriter(filename,fourcc,fps,size)\\\n",
    "# 当然也可直接输入参数值\n",
    "\n",
    "# 2.写入视频\n",
    "# out.write(frame)\n",
    "\n",
    "# 3.释放对象\n",
    "# out.release()"
   ]
  },
  {
   "cell_type": "code",
   "execution_count": 15,
   "id": "armed-november",
   "metadata": {},
   "outputs": [],
   "source": [
    "cap = cv2.VideoCapture(0)\n",
    "\n",
    "fourcc = cv2.ViderWriter_fourcc('I','4','2','0')\n",
    "out = cv2.VideoWriter('output.avi',fourcc,20,(640,480))\n",
    "\n",
    "while(cap.isOpened()):\n",
    "    ret,frame = cap.read()\n",
    "    if ret:\n",
    "        out.write(frame)\n",
    "        cv2.imshow('frame',frame)\n",
    "    if cv2.waitKey(1)==27:\n",
    "        break\n",
    "\n",
    "cap.release()\n",
    "out.release()\n",
    "cv2.destroyAllWindows()"
   ]
  },
  {
   "cell_type": "markdown",
   "id": "former-production",
   "metadata": {},
   "source": [
    "# 18.3 视频操作基础"
   ]
  },
  {
   "cell_type": "code",
   "execution_count": 16,
   "id": "voluntary-makeup",
   "metadata": {},
   "outputs": [],
   "source": [
    "# 视频是由视频帧构成的，将视频帧从视频中提取出来，对其使用图像处理的方法进行处理，就可达到视频处理的目的"
   ]
  },
  {
   "cell_type": "code",
   "execution_count": 17,
   "id": "brutal-controversy",
   "metadata": {},
   "outputs": [],
   "source": [
    "# 提取视频的Canny边缘检测结果\n",
    "cap = cv2.VideoCapture(\"viptrain.avi\")\n",
    "\n",
    "while(cap.isOpened()):\n",
    "    ret,frame = cap.read()\n",
    "    frame = cv2.Canny(frame,100,200)\n",
    "    cv2.imshow('frame',frame)\n",
    "    c = cv2.waitKey(1)\n",
    "    if c==27:\n",
    "        break\n",
    "\n",
    "cap.release()\n",
    "cv2.destroyAllWindows()"
   ]
  },
  {
   "cell_type": "code",
   "execution_count": null,
   "id": "rotary-kennedy",
   "metadata": {},
   "outputs": [],
   "source": []
  }
 ],
 "metadata": {
  "kernelspec": {
   "display_name": "Python 3",
   "language": "python",
   "name": "python3"
  },
  "language_info": {
   "codemirror_mode": {
    "name": "ipython",
    "version": 3
   },
   "file_extension": ".py",
   "mimetype": "text/x-python",
   "name": "python",
   "nbconvert_exporter": "python",
   "pygments_lexer": "ipython3",
   "version": "3.8.5"
  }
 },
 "nbformat": 4,
 "nbformat_minor": 5
}
