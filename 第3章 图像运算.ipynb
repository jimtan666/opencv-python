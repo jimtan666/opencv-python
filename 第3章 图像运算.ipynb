{
 "cells": [
  {
   "cell_type": "code",
   "execution_count": 1,
   "id": "clean-fever",
   "metadata": {},
   "outputs": [],
   "source": [
    "import matplotlib.pyplot as plt\n",
    "import numpy as np\n",
    "import cv2"
   ]
  },
  {
   "cell_type": "code",
   "execution_count": 2,
   "id": "intellectual-disabled",
   "metadata": {},
   "outputs": [],
   "source": [
    "# 显示图像\n",
    "def img_show(img):\n",
    "    if len(img.shape) == 3:\n",
    "        b,g,r = cv2.split(img)\n",
    "        img2 = cv2.merge([r,g,b])\n",
    "        plt.imshow(img2)\n",
    "    elif len(img.shape) == 2:\n",
    "        plt.imshow(img)"
   ]
  },
  {
   "cell_type": "markdown",
   "id": "passing-trash",
   "metadata": {},
   "source": [
    "# 3.1 图像加分运算"
   ]
  },
  {
   "cell_type": "markdown",
   "id": "handmade-joshua",
   "metadata": {},
   "source": [
    "### 3.1.1 加号运算"
   ]
  },
  {
   "cell_type": "code",
   "execution_count": 2,
   "id": "unauthorized-calcium",
   "metadata": {},
   "outputs": [],
   "source": [
    "# 规则：a+b=mod(a+b,255)\n",
    "# 若和<255,则值=两数之和，若和>255,则值是和对255取模\n",
    "# 通过将数组类型定义为dtype=np.uint8,可以保证数组值范围在[0,255]之间"
   ]
  },
  {
   "cell_type": "code",
   "execution_count": 4,
   "id": "outer-fundamentals",
   "metadata": {},
   "outputs": [
    {
     "name": "stdout",
     "output_type": "stream",
     "text": [
      "img1:\n",
      " [[154 159 190]\n",
      " [158 108 155]\n",
      " [183 250 213]]\n",
      "img2:\n",
      " [[237 124 200]\n",
      " [ 11  26 109]\n",
      " [233 152 122]]\n",
      "img3:\n",
      " [[135  27 134]\n",
      " [169 134   8]\n",
      " [160 146  79]]\n"
     ]
    }
   ],
   "source": [
    "img1 = np.random.randint(0,255,size=[3,3],dtype=np.uint8)\n",
    "img2 = np.random.randint(0,255,size=[3,3],dtype=np.uint8)\n",
    "img3 = img1 + img2\n",
    "\n",
    "print(\"img1:\\n\",img1)\n",
    "print(\"img2:\\n\",img2)\n",
    "print(\"img3:\\n\",img3)"
   ]
  },
  {
   "cell_type": "markdown",
   "id": "reliable-infrared",
   "metadata": {},
   "source": [
    "### 3.1.2 cv2.add()函数"
   ]
  },
  {
   "cell_type": "code",
   "execution_count": 5,
   "id": "committed-fourth",
   "metadata": {},
   "outputs": [],
   "source": [
    "# result = cv2.add(像素值a,像素值b)\n",
    "# 会得到像素对图像的饱和值（最大值255），当和>255时，值=255\n",
    "# 参数形式：\n",
    "# 1.result = cv2.add(图像1，图像2): 参与运算的图像大小和类型必须保持一致\n",
    "# 2.result = cv2.add(数值，图像)：将超过图像饱和值的值处理为饱和值（255）\n",
    "# 3.result = cv2.add(图像，数值)：将超过图像饱和值的值处理为饱和值（255）"
   ]
  },
  {
   "cell_type": "code",
   "execution_count": 7,
   "id": "compliant-tampa",
   "metadata": {},
   "outputs": [
    {
     "name": "stdout",
     "output_type": "stream",
     "text": [
      "img1:\n",
      " [[212  60 214]\n",
      " [235  48 179]\n",
      " [ 12 133 224]]\n",
      "img2:\n",
      " [[141 158 147]\n",
      " [202  80  58]\n",
      " [ 99 123 205]]\n",
      "img3:\n",
      " [[255 218 255]\n",
      " [255 128 237]\n",
      " [111 255 255]]\n"
     ]
    }
   ],
   "source": [
    "img1 = np.random.randint(0,255,size=[3,3],dtype=np.uint8)\n",
    "img2 = np.random.randint(0,255,size=[3,3],dtype=np.uint8)\n",
    "img3 = cv2.add(img1,img2)\n",
    "\n",
    "print(\"img1:\\n\",img1)\n",
    "print(\"img2:\\n\",img2)\n",
    "print(\"img3:\\n\",img3)"
   ]
  },
  {
   "cell_type": "markdown",
   "id": "approximate-library",
   "metadata": {},
   "source": [
    "# 3.2 图像加权和"
   ]
  },
  {
   "cell_type": "code",
   "execution_count": 9,
   "id": "invalid-chemical",
   "metadata": {},
   "outputs": [],
   "source": [
    "# 计算两幅图像像素之和时，考虑每幅图像的权重：\n",
    "# dst = saturate(src1*a + src2*b +y)\n",
    "# saturate:表示取饱和值\n",
    "# 要求src1,src2必须大小，类型形同\n",
    "\n",
    "# dst = cv2.addWeighted(src1,alpha,src2,beta,gamma)"
   ]
  },
  {
   "cell_type": "code",
   "execution_count": 10,
   "id": "wrapped-nicaragua",
   "metadata": {},
   "outputs": [
    {
     "name": "stdout",
     "output_type": "stream",
     "text": [
      "img1:\n",
      " [[156 184  27]\n",
      " [148 173 125]\n",
      " [  1  70 245]]\n",
      "img2:\n",
      " [[148  54 163]\n",
      " [ 37 200 245]\n",
      " [182 200 208]]\n",
      "img3:\n",
      " [[255 221 255]\n",
      " [166 255 255]\n",
      " [255 255 255]]\n"
     ]
    }
   ],
   "source": [
    "img1 = np.random.randint(0,255,size=[3,3],dtype=np.uint8)\n",
    "img2 = np.random.randint(0,255,size=[3,3],dtype=np.uint8)\n",
    "gamma = 3\n",
    "img3 = cv2.addWeighted(img1,0.6,img2,2,gamma)\n",
    "print(\"img1:\\n\",img1)\n",
    "print(\"img2:\\n\",img2)\n",
    "print(\"img3:\\n\",img3)"
   ]
  },
  {
   "cell_type": "code",
   "execution_count": 20,
   "id": "exciting-cricket",
   "metadata": {},
   "outputs": [
    {
     "data": {
      "image/png": "[encoded data removed]",
      "text/plain": [
       "<Figure size 432x288 with 1 Axes>"
      ]
     },
     "metadata": {
      "needs_background": "light"
     },
     "output_type": "display_data"
    }
   ],
   "source": [
    "img_show(img3)"
   ]
  },
  {
   "cell_type": "code",
   "execution_count": 21,
   "id": "dedicated-identity",
   "metadata": {},
   "outputs": [],
   "source": [
    "# 利用cv2.addWeighted()将ROI区域混合在另一幅图像上（索引替换值）"
   ]
  },
  {
   "cell_type": "markdown",
   "id": "extensive-cleaner",
   "metadata": {},
   "source": [
    "# 3.3 按位逻辑运算（位运算）"
   ]
  },
  {
   "cell_type": "markdown",
   "id": "accurate-surface",
   "metadata": {},
   "source": [
    "- cv2.bitwise_and():按位与\n",
    "- cv2.bitwise_or():按位或\n",
    "- cv2.bitwise_xor():按位异或\n",
    "- cv2.bitwise_not():按位取反"
   ]
  },
  {
   "cell_type": "markdown",
   "id": "quarterly-delay",
   "metadata": {},
   "source": [
    "### 3.3.1 按位与运算"
   ]
  },
  {
   "cell_type": "code",
   "execution_count": 24,
   "id": "temporal-zoning",
   "metadata": {},
   "outputs": [],
   "source": [
    "# dst = cv2.bitwise_and(src1, src2[, mask])\n",
    "# mask: 表示可选操作掩码，8位单通道array\n",
    "# 特殊：按位与运算要求src1,src2必须有相同通道,需将单通道的掩模转成BGR3通道的图片进行按位与运算\n",
    "\n",
    "# 特点：\n",
    "# 1将任意数值N与数值0进行按位与操作，都会得到数值0\n",
    "# 2将任意数值N（仅考虑8位值）与数值255（1111 1111）进行按位与操作，都会得到N本身\n",
    "# 3任何数值与自身按位与运算，得到的结果仍是自身"
   ]
  },
  {
   "cell_type": "code",
   "execution_count": 28,
   "id": "standing-kansas",
   "metadata": {},
   "outputs": [
    {
     "name": "stdout",
     "output_type": "stream",
     "text": [
      "a:\n",
      " [[127  85  58  85 137]\n",
      " [ 75  50 141 189   2]\n",
      " [254 181 115  16 216]\n",
      " [166 175  53 212 133]\n",
      " [179 204 184  55 239]]\n",
      "b:\n",
      " [[255 255 255   0   0]\n",
      " [255 255 255   0   0]\n",
      " [255 255 255   0   0]\n",
      " [  0   0   0   0   0]\n",
      " [  0   0   0   0 255]]\n",
      "c:\n",
      " [[127  85  58   0   0]\n",
      " [ 75  50 141   0   0]\n",
      " [254 181 115   0   0]\n",
      " [  0   0   0   0   0]\n",
      " [  0   0   0   0 239]]\n"
     ]
    }
   ],
   "source": [
    "# 使用数组演示与掩模图像的按位与运算\n",
    "a = np.random.randint(0,255,size=(5,5),dtype=np.uint8)\n",
    "\n",
    "b = np.zeros((5,5),dtype=np.uint8)\n",
    "b[0:3,0:3] = 255\n",
    "b[4,4] = 255\n",
    "\n",
    "c = cv2.bitwise_and(a,b)\n",
    "\n",
    "print(\"a:\\n\", a)\n",
    "print(\"b:\\n\", b)\n",
    "print(\"c:\\n\", c)\n",
    "\n",
    "# 数组c来源于数组a与数组b的按位与运算，c中的值，与b中255对应位置上的值来源于a，与b中0对应位置上的值为0\n",
    "# 理解：掩模b相当于用0将a中对应位置的值掩盖了，只显示a中与255对应的值"
   ]
  },
  {
   "cell_type": "code",
   "execution_count": 38,
   "id": "comparative-decision",
   "metadata": {},
   "outputs": [
    {
     "data": {
      "image/png": "[encoded data removed]",
      "text/plain": [
       "<Figure size 432x288 with 1 Axes>"
      ]
     },
     "metadata": {
      "needs_background": "light"
     },
     "output_type": "display_data"
    }
   ],
   "source": [
    "img = cv2.imread(\"/Users/tanjun/Desktop/加班截图/WechatIMG115.jpeg\")\n",
    "\n",
    "ym = np.zeros(img.shape, dtype=np.uint8)\n",
    "ym[100:1000,100:1000] = 255\n",
    "ym[2000:2200,100:1000] = 255\n",
    "\n",
    "img2 = cv2.bitwise_and(img,ym)\n",
    "img_show(img2)"
   ]
  },
  {
   "cell_type": "markdown",
   "id": "addressed-acquisition",
   "metadata": {},
   "source": [
    "### 3.3.2 按位或运算"
   ]
  },
  {
   "cell_type": "code",
   "execution_count": 39,
   "id": "active-following",
   "metadata": {},
   "outputs": [],
   "source": [
    "# dst = cv2.bitwise_or(src1,src2[,mask])\n",
    "# mask: 表示可选操作掩码，8位单通道array"
   ]
  },
  {
   "cell_type": "markdown",
   "id": "coastal-arbitration",
   "metadata": {},
   "source": [
    "### 3.3.3 按位非运算"
   ]
  },
  {
   "cell_type": "code",
   "execution_count": 40,
   "id": "occupational-seven",
   "metadata": {},
   "outputs": [],
   "source": [
    "# dst = cv2.bitwise_not(src[,mask])\n",
    "# mask: 表示可选操作掩码，8位单通道array"
   ]
  },
  {
   "cell_type": "markdown",
   "id": "confidential-jamaica",
   "metadata": {},
   "source": [
    "### 3.3.4 按位异或运算"
   ]
  },
  {
   "cell_type": "code",
   "execution_count": 41,
   "id": "accessible-field",
   "metadata": {},
   "outputs": [],
   "source": [
    "# dst = cv2.bitwise_xor(src1,src2[,mask])\n",
    "# mask: 表示可选操作掩码，8位单通道array\n",
    "\n",
    "# 运算规则与不带进位的二进制加法类似，结果是和的最后一位\n",
    "# xor(0,0) = 0\n",
    "# xor(1,0) = 1\n",
    "# xor(0,1) = 1\n",
    "# xor(1,1) = 0"
   ]
  },
  {
   "cell_type": "markdown",
   "id": "persistent-slope",
   "metadata": {},
   "source": [
    "# 3.4 掩模"
   ]
  },
  {
   "cell_type": "code",
   "execution_count": 42,
   "id": "starting-complement",
   "metadata": {},
   "outputs": [],
   "source": [
    "# opencv中很多函数都会指定一个掩模（掩码）\n",
    "# 如：dst = cv2.add(src1, src2, mask)\n",
    "# 当指定掩模参数时，操作只会在掩模值为非空的像素点上执行，并将其他像素点的值置为0"
   ]
  },
  {
   "cell_type": "code",
   "execution_count": 51,
   "id": "collective-nation",
   "metadata": {},
   "outputs": [
    {
     "name": "stdout",
     "output_type": "stream",
     "text": [
      "img1:\n",
      " [[3 3 3 3]\n",
      " [3 3 3 3]\n",
      " [3 3 3 3]\n",
      " [3 3 3 3]]\n",
      "img2:\n",
      " [[5 5 5 5]\n",
      " [5 5 5 5]\n",
      " [5 5 5 5]\n",
      " [5 5 5 5]]\n",
      "mask:\n",
      " [[0 0 0 0]\n",
      " [0 0 0 0]\n",
      " [0 0 1 1]\n",
      " [0 0 1 1]]\n",
      "img3:\n",
      " [[0 0 0 0]\n",
      " [0 0 0 0]\n",
      " [0 0 8 8]\n",
      " [0 0 8 8]]\n"
     ]
    }
   ],
   "source": [
    "img1 = np.ones((4,4),dtype=np.uint8)*3\n",
    "img2 = np.ones((4,4),dtype=np.uint8)*5\n",
    "mask = np.zeros((4,4),dtype=np.uint8)\n",
    "mask[2:4,2:4] = 1\n",
    "img3 = cv2.add(img1,img2,mask=mask)\n",
    "\n",
    "print(\"img1:\\n\", img1)\n",
    "print(\"img2:\\n\", img2)\n",
    "print(\"mask:\\n\", mask)\n",
    "print(\"img3:\\n\", img3)"
   ]
  },
  {
   "cell_type": "code",
   "execution_count": 52,
   "id": "baking-decision",
   "metadata": {},
   "outputs": [],
   "source": [
    "# 构建一个掩模图像，将该掩模图像作为按位与函数的掩模参数，实现保留图像指定部分\n",
    "# 利用任何数值与自己进行按位与运算得到的还是自身的特点"
   ]
  },
  {
   "cell_type": "markdown",
   "id": "further-malta",
   "metadata": {},
   "source": [
    "# 3.5 图像与数值的运算"
   ]
  },
  {
   "cell_type": "code",
   "execution_count": 53,
   "id": "opening-diary",
   "metadata": {},
   "outputs": [],
   "source": [
    "# 在上述加法和按位运算中，参与运算的两个算子既可以是两幅图像，也可以是一幅图像与一个数值\n",
    "# img3 = cv2.add(img1,img2)\n",
    "# img3 = cv2.add(img1,4)  # 整体增加图像亮度\n",
    "# img3 = cv2.add(4,img1)  # 整体增加图像亮度"
   ]
  },
  {
   "cell_type": "markdown",
   "id": "separated-glance",
   "metadata": {},
   "source": [
    "# 3.6 位平面分解"
   ]
  },
  {
   "cell_type": "code",
   "execution_count": 55,
   "id": "promotional-dealing",
   "metadata": {},
   "outputs": [],
   "source": [
    "# 将灰度图像中处于同一比特位上的二进制像素进行组合，得到一幅二进制图像，该图像称为灰度图像的一个平面位，这个过程称为位平面分解\n",
    "\n",
    "# value = a7*2^7 + a6*2^6 + a5*2^5 + a4*2^4 + a3*2^3 + a2*2^2 + a1*2^1 + a0*2^0  # 一个像素点的值表示\n",
    "# 权重越大，对图像的影响越大\n",
    "# 取一幅8位灰度图内每个像素相同比特位值的组合，构成一个位平面图（按位切片），共可切8个位平面图\n",
    "\n",
    "# 对于RGB图像，对每个通道对应的位平面进行合并，即可组成新的RGB彩色图"
   ]
  },
  {
   "cell_type": "code",
   "execution_count": 56,
   "id": "lovely-friday",
   "metadata": {},
   "outputs": [],
   "source": [
    "# 位平面分解步骤：\n",
    "# 1图像预处理：读取原始图像，获取宽高\n",
    "# 2构造提取矩阵：使用按位与操作能够很方便地将一个数值特定位上的数字提取出来，提取因子哪位上的值位1，就可将哪位上的值提出来，构造提取矩阵\n",
    "# 3提取位平面：将灰度图与提取矩阵进行按位与运算，得到各个位平面。\n",
    "#            将像素值与一个值为2^n的数值进行按位与运算，能够使该像素的第n位爆出不变，其余各位置0，因此能通过像素值与特定值的按位与运算，\n",
    "#            能够提取像素值的特定二进制位的值，同理，通过按位与运算，能够提取像素的指定位平面。\n",
    "#            提示：提取位平面也可以通过将二进制像素值右移指定位，然后对2取模得到。如要提取第n个位平面，则可将像素向右移动n位，然后对2取模 \n",
    "# 4阈值处理：通过计算得到的位平面是一个二值图像，值小时显示接近与黑色，所以需将>0的值处理成255\n",
    "#          mask = RD[:,:,i] > 0\n",
    "#          RD[mask] = 255\n",
    "# 5显示图像："
   ]
  },
  {
   "cell_type": "code",
   "execution_count": 65,
   "id": "accepting-credit",
   "metadata": {},
   "outputs": [],
   "source": [
    "# 观察灰度图各个位平面\n",
    "img = cv2.imread(\"/Users/tanjun/Desktop/加班截图/WechatIMG115.jpeg\", 0)\n",
    "r,c = img.shape\n",
    "\n",
    "x = np.zeros((r,c,8), dtype=np.uint8)\n",
    "for i in range(8):\n",
    "    x[:,:,i] = 2**i\n",
    "    \n",
    "r = np.zeros((r,c,8), dtype=np.uint8)\n",
    "for i in range(8):\n",
    "    r[:,:,i] = cv2.bitwise_and(img,x[:,:,i])\n",
    "    mask = r[:,:,i]>0\n",
    "    r[mask] = 255\n",
    "    cv2.imshow(str(i), r[:,:,i])\n",
    "    \n",
    "cv2.waitKey()\n",
    "cv2.destroyAllWindows()"
   ]
  },
  {
   "cell_type": "markdown",
   "id": "english-parks",
   "metadata": {},
   "source": [
    "# 3.7 图像加密和解密"
   ]
  },
  {
   "cell_type": "code",
   "execution_count": 1,
   "id": "quality-norway",
   "metadata": {},
   "outputs": [],
   "source": [
    "# 通过按位异或运算可以实现图像的加密和解密\n",
    "# 通过对原始图像与密钥图像进行按位异或，可以实现加密；将加密后的图像与密钥图像再次按位异或，可以实现解密\n",
    "\n",
    "# --------------------------------------\n",
    "# a b c:c=xor(a,b) a=xor(c,b) b=xor(c,a)\n",
    "# --------------------------------------\n",
    "# 0 0 0            0          0\n",
    "# 0 1 1            0          1\n",
    "# 1 0 1            1          0\n",
    "# 1 1 0            1          1\n",
    "# --------------------------------------\n",
    "\n",
    "# 若 xor(a,b) = c\n",
    "# 则 xor(c,b) = a\n",
    "# 则 xor(c,a) = b\n",
    "\n",
    "# a: 明文，原始数据\n",
    "# b: 密钥\n",
    "# c: 密文，通过xor(a,b)\n",
    "\n",
    "# 图像处理中，需处理的像素点通常是灰度值[0,255]，用另一个值的二进制与之按位异或，实现加密:\n",
    "# bit_xor(216,178) = 106  # 加密\n",
    "# bit_xor(106,178) = 216  # 解密"
   ]
  },
  {
   "cell_type": "code",
   "execution_count": 11,
   "id": "solid-palestinian",
   "metadata": {},
   "outputs": [
    {
     "data": {
      "image/png": "[encoded data removed]",
      "text/plain": [
       "<Figure size 432x288 with 1 Axes>"
      ]
     },
     "metadata": {
      "needs_background": "light"
     },
     "output_type": "display_data"
    }
   ],
   "source": [
    "img = cv2.imread(\"/Users/tanjun/Desktop/加班截图/WechatIMG115.jpeg\")\n",
    "\n",
    "r,c,n = img.shape\n",
    "key = np.random.randint(0,255,size=(r,c,n),dtype=np.uint8)\n",
    "\n",
    "encryption = cv2.bitwise_xor(img,key)\n",
    "decryption = cv2.bitwise_xor(encryption,key)\n",
    "\n",
    "img_show(decryption)"
   ]
  },
  {
   "cell_type": "markdown",
   "id": "technical-competition",
   "metadata": {},
   "source": [
    "# 3.8 数字水印"
   ]
  },
  {
   "cell_type": "code",
   "execution_count": 13,
   "id": "resident-mailing",
   "metadata": {},
   "outputs": [],
   "source": [
    "# 最低有效位：一个二进制数的第0位（最低位）\n",
    "# 最低有效位信息隐藏：将一个需要隐藏的二值图信息嵌入载体的最低有效位，即将载体图像的最低有效位层替换为当前需要隐藏的位置图像，\n",
    "#                 实现将二值图像隐藏的目的。必要时，将载体图最低有效位层提取出来，达到提取秘密信息的目的。这种信息隐藏也被称作水印。\n",
    "\n",
    "# 原理：\n",
    "# 1.嵌入过程：将载体图像第0个位平面替换位数字水印信息\n",
    "#      1）原始载体图像预处理：将灰度图像素点处理成二进制，取最低有效位\n",
    "#      2）水印图像处理：将水印图像通过阈值处理成二值图像，再将255转换成1，编程真正二值图像\n",
    "#      3）嵌入水印：将载体图像最低有效位替换成二进制水印图像，完成嵌入，再将二进制载体图像转化成十进制，肉眼难辨。\n",
    "# 2.提取过程：将载体图像的最低有效位构成的第0个位平面提取出来，得到数字水印信息\n",
    "#      1）将载体图像转换成二进制，提取最低有效位\n",
    "#      2）根据需要将1转化为255，还原水印二值图\n",
    "\n",
    "# 为提高鲁棒性，可以在多个通道嵌入相同水印，即使部分丢失，其他通道也能提取形同水印信息\n",
    "# 为提高嵌入容量，可在不同通道嵌入不同水印"
   ]
  },
  {
   "cell_type": "code",
   "execution_count": 14,
   "id": "emerging-tulsa",
   "metadata": {},
   "outputs": [],
   "source": [
    "# 实现方法：\n",
    "# 1.嵌入过程：\n",
    "#      1）载体图像预处理：获取载体图像行M列N数，并对其进行二进制标记\n",
    "#      2）建立提取矩阵：建立M*N大小，元素值均为254的提取矩阵，用来提取图像的高七位\n",
    "#      3）保留图像高七位，将最低位置0（按位与运算）（保留高七位还可以将像素右移一位，再左移一位得到）\n",
    "#      4）水印图像处理：将水印图处理成二值图，二值图转换成二进制（高位填0）\n",
    "#      5）嵌入水印：载体图进行保留高七位，最低位置0后得到新图，将新图与水印图按位或运算，实现嵌入\n",
    "#      6）显示图像：\n",
    "# 2.提取过程：\n",
    "#      1）含水印载体图像处理：获取含水印图像大小\n",
    "#      2）建立提取矩阵：定义一个与含水印图像等大小，值为1的矩阵作为提取矩阵\n",
    "#      3）提取水印信息：将含水印图像与提取矩阵进行按位与运算，提取水印信息，进行阈值处理，还原成255\n",
    "#      4）计算去除水印后的载体图像：将含水印载体图像最低位清零即可删除水印，建立值为254的等大小矩阵，与含水印图进行按位与运算\n",
    "#      5）显示图像：\n",
    "\n",
    "# 提示：将像素值对2取模，可获取像素值的最低有效位，因此可通过让含说印图像对2取模的方式，获取图像最低有效位位平面，取到的结果就是说印信息"
   ]
  },
  {
   "cell_type": "code",
   "execution_count": 32,
   "id": "worst-stand",
   "metadata": {},
   "outputs": [
    {
     "data": {
      "image/png": "[encoded data removed]",
      "text/plain": [
       "<Figure size 432x288 with 1 Axes>"
      ]
     },
     "metadata": {
      "needs_background": "light"
     },
     "output_type": "display_data"
    }
   ],
   "source": [
    "# 载体图\n",
    "img = cv2.imread(\"/Users/tanjun/Desktop/加班截图/WechatIMG115.jpeg\",0)\n",
    "c,r = img.shape\n",
    "\n",
    "# 水印图\n",
    "watermark = np.random.randint(0,255,size=(c,r),dtype=np.uint8)\n",
    "watermark[watermark[:,:]>=100] = 1\n",
    "watermark[watermark[:,:]<100] = 0\n",
    "\n",
    "# 嵌入过程\n",
    "t254 = np.ones((c,r),dtype=np.uint8)*254\n",
    "imgH7 = cv2.bitwise_and(img,t254)\n",
    "e = cv2.bitwise_or(imgH7,watermark)\n",
    "\n",
    "# 提取过程\n",
    "t1 = np.ones((c,r),dtype=np.uint8)\n",
    "wm = cv2.bitwise_and(e,t1)\n",
    "wm[wm[:,:]>0] = 255\n",
    "\n",
    "# 显示\n",
    "img_show(wm)"
   ]
  },
  {
   "cell_type": "markdown",
   "id": "loving-snake",
   "metadata": {},
   "source": [
    "# 3.9 脸部打码及解码"
   ]
  },
  {
   "cell_type": "code",
   "execution_count": 6,
   "id": "seventh-mediterranean",
   "metadata": {},
   "outputs": [],
   "source": [
    "img = cv2.imread(\"/Users/tanjun/Desktop/加班截图/WechatIMG115.jpeg\",0)\n",
    "c,r = img.shape\n",
    "\n",
    "mask = np.zeros((c,r),dtype=np.uint8)\n",
    "mask[220:400,250:350] = 1\n",
    "\n",
    "# 获取一个key，打码、解码使用的密钥\n",
    "key = np.random.randint(0,255,size=(c,r),dtype=np.uint8)\n",
    "\n",
    "# 获取打码脸\n",
    "imgXorKey = cv2.bitwise_xor(img,key)  # 使用密钥key对原始图像进行加密\n",
    "encryptFace = cv2.bitwise_and(imgXorKey,mask*255)  # 获取加密图像的脸部信息\n",
    "noFacel = cv2.bitwise_and(img,(1-mask)*255)  # 将图像的脸部信息设置成0\n",
    "maskFace = encryptFace + noFacel  # 得到打码的图像\n",
    "\n",
    "# 将打码脸解码\n",
    "extractOriginal = cv2.bitwise_xor(maskFace,key)  # 将脸部打码的图像与密钥key进行异或运算，得到脸部原始信息\n",
    "extractFace = cv2.bitwise_and(extractOriginal,mask*255)  # 将解码的脸部信息提取出来\n",
    "noFace2 = cv2.bitwise_and(maskFace,(1-mask)*255)  # 从脸部打码的图像内提取没有脸部的信息\n",
    "extractImg = noFace2+extractFace  # 得到解码的图像\n",
    "\n",
    "# 显示图像\n",
    "cv2.imshow(\"img\", img)\n",
    "cv2.imshow(\"mask\", mask)\n",
    "cv2.imshow(\"key\", key)\n",
    "cv2.imshow(\"imgXorkey\", imgXorKey)\n",
    "cv2.imshow(\"encryptFace\", encryptFace)\n",
    "cv2.imshow(\"noFacel\", noFacel)\n",
    "cv2.imshow(\"maskFace\", maskFace)\n",
    "cv2.imshow(\"extractOriginal\", extractOriginal)\n",
    "cv2.imshow(\"noFace2\", noFace2)\n",
    "cv2.imshow(\"extractImg\", extractImg)\n",
    "cv2.waitKey()\n",
    "cv2.destroyAllWindows()"
   ]
  },
  {
   "cell_type": "code",
   "execution_count": null,
   "id": "strong-eclipse",
   "metadata": {},
   "outputs": [],
   "source": []
  }
 ],
 "metadata": {
  "kernelspec": {
   "display_name": "Python 3",
   "language": "python",
   "name": "python3"
  },
  "language_info": {
   "codemirror_mode": {
    "name": "ipython",
    "version": 3
   },
   "file_extension": ".py",
   "mimetype": "text/x-python",
   "name": "python",
   "nbconvert_exporter": "python",
   "pygments_lexer": "ipython3",
   "version": "3.8.5"
  }
 },
 "nbformat": 4,
 "nbformat_minor": 5
}
